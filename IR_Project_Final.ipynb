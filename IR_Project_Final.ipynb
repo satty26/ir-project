{
 "cells": [
  {
   "cell_type": "code",
   "execution_count": 1,
   "metadata": {},
   "outputs": [],
   "source": [
    "#import statements\n",
    "import os\n",
    "from collections.abc import Sequence\n",
    "import math\n",
    "import glob"
   ]
  },
  {
   "cell_type": "code",
   "execution_count": 2,
   "metadata": {},
   "outputs": [],
   "source": [
    "# Total number of files present in the folder\n",
    "# Folder Location\n",
    "APP_FOLDER = \"./\"\n",
    "#Corpus - All the text files present in the folder which in our case are gutenberg textbooks\n",
    "txtCounter = len(glob.glob1(APP_FOLDER,\"*.txt\"))"
   ]
  },
  {
   "cell_type": "code",
   "execution_count": 3,
   "metadata": {},
   "outputs": [],
   "source": [
    "# Initialising Dictionaries depending on number of text files\n",
    "dictlist = [dict() for x in range(txtCounter)]\n",
    "\n",
    "# Declaring maximum number of words in the file\n",
    "file_size = 500000\n",
    "\n",
    "file_name=[]\n",
    "\n",
    "file_counter = -1\n",
    "\n",
    "# All files in the desired folder\n",
    "for files in os.listdir(APP_FOLDER):\n",
    "    # Only checking for .txt files\n",
    "    if files.endswith(\".txt\"):\n",
    "        file_counter=file_counter+1\n",
    "        \n",
    "        with open(os.path.join(APP_FOLDER, files),'r') as file:\n",
    "            \n",
    "            file_name.append(files)\n",
    "            \n",
    "            word_counter=0           \n",
    "            for line in file:\n",
    "                for word in line.split():\n",
    "                    # Converting whole string to uppercase\n",
    "                    word=word.upper()\n",
    "                    # Counting number of words\n",
    "                    word_counter = word_counter+1\n",
    "                    \n",
    "                    # Checking if last character of word is not punctuation\n",
    "                    last_char = word[-1]\n",
    "#                     print(word)\n",
    "                    empty_list=[]\n",
    "                    # \" . \" will give wrong answer, so check it\n",
    "                    if  ((not('A'<=last_char and last_char<='Z')) and(not('0'<=last_char and last_char<='9')) and len(word)!=1) :\n",
    "                        dictlist[file_counter].setdefault(word[:-1],[]).append(word_counter)\n",
    "            \n",
    "                    else:\n",
    "                        dictlist[file_counter].setdefault(word,[]).append(word_counter)"
   ]
  },
  {
   "cell_type": "code",
   "execution_count": 8,
   "metadata": {},
   "outputs": [
    {
     "name": "stdout",
     "output_type": "stream",
     "text": [
      "mark twain\n",
      "Match found from word 12 in file The Adventures of Tom Sawyer\n",
      "Match found from word 103 in file The Adventures of Tom Sawyer\n",
      "Match found from word 148 in file The Adventures of Tom Sawyer\n",
      "Match found from word 11 in file Adventures of Huckleberry Finn\n",
      "Match found from word 103 in file Adventures of Huckleberry Finn\n",
      "Match found from word 147 in file Adventures of Huckleberry Finn\n",
      "Match found from word 1314 in file Adventures of Huckleberry Finn\n",
      "2021\n",
      "Match found from word 112 in file Pride and Prejudice\n",
      "Match found from word 118 in file The Adventures of Tom Sawyer\n",
      "Match found from word 118 in file Adventures of Huckleberry Finn\n",
      "-1\n"
     ]
    }
   ],
   "source": [
    "# Taking Queries\n",
    "\n",
    "    # Converting query to uppercase\n",
    "query = input()\n",
    "while query!=\"-1\":\n",
    "    query=query.upper()\n",
    "\n",
    "    # Splitting the query in parts\n",
    "    words_list = []\n",
    "    for words in query.split():\n",
    "        last_char = words[-1]\n",
    "        if  ((not('A'<=last_char and last_char<='Z')) and(not('0'<=last_char and last_char<='9')) and len(words)!=1) :\n",
    "            words_list.append(words[:-1])\n",
    "    #             words_list.append(words[-1])\n",
    "        else:\n",
    "            words_list.append(words)\n",
    "\n",
    "    # Checking words in Dictionary\n",
    "    query_len=len(words_list)\n",
    "    # Checking for the sentence in every dictionary\n",
    "    dic_num = -1\n",
    "    for dic in dictlist:\n",
    "        flag=1\n",
    "        dic_num = dic_num+1\n",
    "        ans_bitset=[0]*file_size\n",
    "    #         print(ans_bitset)\n",
    "        word_num = -1\n",
    "        for word in words_list:\n",
    "    #             print(word)\n",
    "            word_num = word_num +1\n",
    "            if word not in dic.keys():\n",
    "                flag=0\n",
    "                break\n",
    "            else :\n",
    "                for index in dic[word]:\n",
    "                    if(index-word_num>=0):\n",
    "                        ans_bitset[index-word_num]=ans_bitset[index-word_num]+1\n",
    "        if flag == 1:\n",
    "            for pos in range(file_size):\n",
    "                if ans_bitset[pos]==query_len:\n",
    "                    print(\"Match found from word\",pos,\"in file\",file_name[dic_num][0:-4])\n",
    "    query = input()\n",
    "\n"
   ]
  },
  {
   "cell_type": "code",
   "execution_count": null,
   "metadata": {},
   "outputs": [],
   "source": []
  }
 ],
 "metadata": {
  "kernelspec": {
   "display_name": "Python 3",
   "language": "python",
   "name": "python3"
  },
  "language_info": {
   "codemirror_mode": {
    "name": "ipython",
    "version": 3
   },
   "file_extension": ".py",
   "mimetype": "text/x-python",
   "name": "python",
   "nbconvert_exporter": "python",
   "pygments_lexer": "ipython3",
   "version": "3.8.5"
  }
 },
 "nbformat": 4,
 "nbformat_minor": 4
}
